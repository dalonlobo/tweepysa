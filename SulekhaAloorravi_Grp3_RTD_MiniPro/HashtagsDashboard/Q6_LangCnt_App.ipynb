{
 "cells": [
  {
   "cell_type": "code",
   "execution_count": null,
   "metadata": {
    "collapsed": false
   },
   "outputs": [],
   "source": [
    "from flask import Flask,jsonify,request\n",
    "from flask import render_template\n",
    "import ast\n",
    "app = Flask(__name__)\n",
    "labels = []\n",
    "values = []\n",
    "@app.route(\"/\")\n",
    "def get_chart_page():\n",
    "    global labels,values\n",
    "    labels = []\n",
    "    values = []\n",
    "    return render_template('chart_Langcnt.html', values=values, labels=labels)\n",
    "@app.route('/refreshData')\n",
    "def refresh_graph_data():\n",
    "    global labels, values\n",
    "    print(\"labels now: \" + str(labels))\n",
    "    print(\"data now: \" + str(values))\n",
    "    return jsonify(sLabel=labels, sData=values)\n",
    "@app.route('/updateData', methods=['POST'])\n",
    "def update_data():\n",
    "    global labels, values\n",
    "    if not request.form or 'data' not in request.form:\n",
    "        return \"error\",400\n",
    "    labels = ast.literal_eval(request.form['label'])\n",
    "    values = ast.literal_eval(request.form['data'])\n",
    "    print(\"labels received: \" + str(labels))\n",
    "    print(\"data received: \" + str(values))\n",
    "    return \"success\",201\n",
    "if __name__ == \"__main__\":\n",
    "    app.run(host='192.1.1.1', port=5001)"
   ]
  },
  {
   "cell_type": "code",
   "execution_count": null,
   "metadata": {
    "collapsed": true
   },
   "outputs": [],
   "source": []
  },
  {
   "cell_type": "code",
   "execution_count": null,
   "metadata": {
    "collapsed": true
   },
   "outputs": [],
   "source": []
  }
 ],
 "metadata": {
  "kernelspec": {
   "display_name": "Python 2",
   "language": "python",
   "name": "python2"
  },
  "language_info": {
   "codemirror_mode": {
    "name": "ipython",
    "version": 2
   },
   "file_extension": ".py",
   "mimetype": "text/x-python",
   "name": "python",
   "nbconvert_exporter": "python",
   "pygments_lexer": "ipython2",
   "version": "2.7.13"
  }
 },
 "nbformat": 4,
 "nbformat_minor": 2
}
