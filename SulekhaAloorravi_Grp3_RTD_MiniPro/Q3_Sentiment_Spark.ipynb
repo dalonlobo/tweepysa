{
 "cells": [
  {
   "cell_type": "code",
   "execution_count": null,
   "metadata": {
    "collapsed": false
   },
   "outputs": [],
   "source": [
    "from __future__ import print_function\n",
    "import sys\n",
    "from pyspark import SparkContext\n",
    "from pyspark.streaming import StreamingContext\n",
    "from pyspark.sql import Row, SparkSession\n",
    "import io\n",
    "import requests\n",
    "import re\n",
    "from textblob import TextBlob"
   ]
  },
  {
   "cell_type": "code",
   "execution_count": null,
   "metadata": {
    "collapsed": false
   },
   "outputs": [],
   "source": [
    "def getSparkSessionInstance(sparkConf):\n",
    "    if ('sparkSessionSingletonInstance' not in globals()):\n",
    "        globals()['sparkSessionSingletonInstance'] = SparkSession\\\n",
    "            .builder\\\n",
    "            .config(conf=sparkConf)\\\n",
    "            .getOrCreate()\n",
    "    return globals()['sparkSessionSingletonInstance']\n",
    "\n",
    "\n",
    "if __name__ == \"__main__\":\n",
    "    #if len(sys.argv) != 3:\n",
    "     #   print(\"Usage: sql_network_wordcount.py <hostname> <port> \", file=sys.stderr)\n",
    "      #   exit(-1)\n",
    "    #host, port = sys.argv[1:]\n",
    "    sc = SparkContext.getOrCreate()\n",
    "    #Enter 3600 to get iphone sentiments for every hour. \n",
    "    ssc = StreamingContext(sc, 60) \n",
    "    #To receive more and quicker output for reporting purpose I have used 60 here."
   ]
  },
  {
   "cell_type": "code",
   "execution_count": null,
   "metadata": {
    "collapsed": true
   },
   "outputs": [],
   "source": [
    "socket_stream = ssc.socketTextStream(\"192.1.1.1\", 5555)"
   ]
  },
  {
   "cell_type": "code",
   "execution_count": null,
   "metadata": {
    "collapsed": false
   },
   "outputs": [],
   "source": [
    "#Enter 3600 to get iphone sentiments for every hour. \n",
    "#To receive more and quicker output for reporting purpose I have used 60 here.\n",
    "lines = socket_stream.window(60)"
   ]
  },
  {
   "cell_type": "code",
   "execution_count": null,
   "metadata": {
    "collapsed": true
   },
   "outputs": [],
   "source": [
    "def clean_tweet(tweet):\n",
    "        return ' '.join(re.sub(\"(@[A-Za-z0-9]+)|([^0-9A-Za-z \\t])|(\\w+:\\/\\/\\S+)\", \" \", tweet).split())"
   ]
  },
  {
   "cell_type": "code",
   "execution_count": null,
   "metadata": {
    "collapsed": false
   },
   "outputs": [],
   "source": [
    "def get_tweet_sentiment(tweet):\n",
    "        # create TextBlob object of passed tweet text\n",
    "        analysis = TextBlob(clean_tweet(tweet))\n",
    "        # set sentiment\n",
    "        if analysis.sentiment.polarity > 0:\n",
    "            return 'positive'\n",
    "        elif analysis.sentiment.polarity == 0:\n",
    "            return 'neutral'\n",
    "        else:\n",
    "            return 'negative'"
   ]
  },
  {
   "cell_type": "code",
   "execution_count": null,
   "metadata": {
    "collapsed": true
   },
   "outputs": [],
   "source": [
    "def send_df_to_dashboard(df):\n",
    "    # extract the hashtags from dataframe and convert them into array\n",
    "    top_tags = [str(t.Sentiment) for t in df.select(\"Sentiment\").collect()]\n",
    "    # extract the counts from dataframe and convert them into array\n",
    "    tags_count = [p.Count for p in df.select(\"Count\").collect()]\n",
    "    # initialize and send the data through REST API\n",
    "    url = 'http://192.1.1.1:5001/updateData'\n",
    "    request_data = {'label': str(top_tags), 'data': str(tags_count)}\n",
    "    response = requests.post(url, data=request_data)"
   ]
  },
  {
   "cell_type": "code",
   "execution_count": null,
   "metadata": {
    "collapsed": false
   },
   "outputs": [],
   "source": [
    "tweety = lines.flatMap(lambda line: line.split(\"\\n\"))"
   ]
  },
  {
   "cell_type": "code",
   "execution_count": null,
   "metadata": {
    "collapsed": false
   },
   "outputs": [],
   "source": [
    "def get_tweets(time, rdd):\n",
    "        print(\"========= %s =========\" % str(time))\n",
    "        from pyspark.sql.types import NumericType\n",
    "        try:\n",
    "            header = [\"Tweet\"]\n",
    "            spark = getSparkSessionInstance(rdd.context.getConf())\n",
    "            spark.udf.register('get_tweet_sentiment', get_tweet_sentiment)\n",
    "            rowRdd = rdd.map(lambda row: row.split(\"\\n\"))\n",
    "            jsonDataFrame = spark.createDataFrame(rowRdd, header)\n",
    "            jsonDataFrame.createOrReplaceTempView(\"tweets\")\n",
    "            #2. Sentiment Analysis:\n",
    "            #2.1 Filter tweets & take tweets which has mention of “iphone”.\n",
    "            iPhoneTweetDF = \\\n",
    "            spark.sql(\"select Tweet, get_tweet_sentiment(Tweet) as Sentiment from tweets\")\n",
    "            iPhoneTweetDF.show()\n",
    "            sentiCountDF = \\\n",
    "            spark.sql(\"select get_tweet_sentiment(Tweet) as Sentiment, count(get_tweet_sentiment(Tweet)) as Count from tweets group by get_tweet_sentiment(Tweet)\")\n",
    "            sentiCountDF.show()\n",
    "            send_df_to_dashboard(sentiCountDF)\n",
    "        except:\n",
    "            pass"
   ]
  },
  {
   "cell_type": "code",
   "execution_count": null,
   "metadata": {
    "collapsed": true
   },
   "outputs": [],
   "source": [
    "tweety.foreachRDD(get_tweets)"
   ]
  },
  {
   "cell_type": "code",
   "execution_count": null,
   "metadata": {
    "collapsed": false
   },
   "outputs": [],
   "source": [
    "ssc.start()"
   ]
  },
  {
   "cell_type": "code",
   "execution_count": null,
   "metadata": {
    "collapsed": false
   },
   "outputs": [],
   "source": [
    "ssc.awaitTermination()"
   ]
  }
 ],
 "metadata": {
  "kernelspec": {
   "display_name": "Python 2",
   "language": "python",
   "name": "python2"
  },
  "language_info": {
   "codemirror_mode": {
    "name": "ipython",
    "version": 2
   },
   "file_extension": ".py",
   "mimetype": "text/x-python",
   "name": "python",
   "nbconvert_exporter": "python",
   "pygments_lexer": "ipython2",
   "version": "2.7.13"
  }
 },
 "nbformat": 4,
 "nbformat_minor": 2
}
