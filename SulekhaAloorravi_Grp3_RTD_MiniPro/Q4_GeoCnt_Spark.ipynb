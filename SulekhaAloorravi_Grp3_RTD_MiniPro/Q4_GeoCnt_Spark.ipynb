{
 "cells": [
  {
   "cell_type": "code",
   "execution_count": null,
   "metadata": {
    "collapsed": false
   },
   "outputs": [],
   "source": [
    "from __future__ import print_function\n",
    "import sys\n",
    "from pyspark import SparkContext\n",
    "from pyspark.streaming import StreamingContext\n",
    "from pyspark.sql import Row, SparkSession\n",
    "import io\n",
    "import requests"
   ]
  },
  {
   "cell_type": "code",
   "execution_count": null,
   "metadata": {
    "collapsed": false
   },
   "outputs": [],
   "source": [
    "def getSparkSessionInstance(sparkConf):\n",
    "    if ('sparkSessionSingletonInstance' not in globals()):\n",
    "        globals()['sparkSessionSingletonInstance'] = SparkSession\\\n",
    "            .builder\\\n",
    "            .config(conf=sparkConf)\\\n",
    "            .getOrCreate()\n",
    "    return globals()['sparkSessionSingletonInstance']\n",
    "\n",
    "\n",
    "if __name__ == \"__main__\":\n",
    "    sc = SparkContext.getOrCreate()\n",
    "    ssc = StreamingContext(sc, 5)"
   ]
  },
  {
   "cell_type": "code",
   "execution_count": null,
   "metadata": {
    "collapsed": true
   },
   "outputs": [],
   "source": [
    "socket_stream = ssc.socketTextStream(\"192.1.1.1\", 5559)"
   ]
  },
  {
   "cell_type": "code",
   "execution_count": null,
   "metadata": {
    "collapsed": true
   },
   "outputs": [],
   "source": [
    "lines = socket_stream.window(60)"
   ]
  },
  {
   "cell_type": "code",
   "execution_count": null,
   "metadata": {
    "collapsed": false
   },
   "outputs": [],
   "source": [
    "tweets = lines.flatMap(lambda line: line.split(\"\\n\"))"
   ]
  },
  {
   "cell_type": "code",
   "execution_count": null,
   "metadata": {
    "collapsed": false
   },
   "outputs": [],
   "source": [
    "# Convert RDDs of the words DStream to DataFrame and run SQL query\n",
    "def process(time, rdd):\n",
    "        print(\"========= %s =========\" % str(time))\n",
    "        from pyspark.sql.types import NumericType\n",
    "        try:\n",
    "            # Get the singleton instance of SparkSession\n",
    "            spark = getSparkSessionInstance(rdd.context.getConf())\n",
    "\n",
    "            header = [\"ScreenName\",\"FollowersCount\",\"Language\",\"TweetsCount\",\"CountryCode\"]\n",
    "            rowRdd = rdd.map(lambda row : row.split(\"||\"))\n",
    "            jsonDataFrame = spark.createDataFrame(rowRdd, header)\n",
    "            jsonDataFrame = jsonDataFrame.withColumn(\"FollowersCount\",jsonDataFrame[\"FollowersCount\"].cast(\"Int\"))\n",
    "            jsonDataFrame = jsonDataFrame.withColumn(\"TweetsCount\",jsonDataFrame[\"TweetsCount\"].cast(\"Int\"))\n",
    "            \n",
    "                        \n",
    "            # Creates a temporary view using the DataFrame.\n",
    "            jsonDataFrame.createOrReplaceTempView(\"tweets\")\n",
    "\n",
    "            CountryCountDF = \\\n",
    "            spark.sql(\"select CountryCode,TweetsCount  from tweets\")\n",
    "            #4.1 Country based tweets count.\n",
    "            #4.3 List of top 15 countries in terms of tweet counts. \n",
    "            data = CountryCountDF.groupby('CountryCode').agg({'CountryCode': 'count'})\n",
    "            oldColumns = data.schema.names\n",
    "            newColumns = [\"CountryCode\", \"TweetCount\"]\n",
    "            TweetCountdf = reduce(lambda data, idx: data.withColumnRenamed(oldColumns[idx], newColumns[idx]), xrange(len(oldColumns)), data)\n",
    "            TweetCountdf.createOrReplaceTempView(\"tweetscnt\")\n",
    "            #TweetCountdf.show()\n",
    "            cnt_df = \\\n",
    "            spark.sql(\"select CountryCode,TweetCount from tweetscnt order by TweetCount desc limit 15\")\n",
    "            cnt_df.show()\n",
    "            send_df_to_dashboard(cnt_df)\n",
    "            \n",
    "            \n",
    "            \n",
    "        except:\n",
    "            pass\n",
    "\n",
    "        "
   ]
  },
  {
   "cell_type": "code",
   "execution_count": null,
   "metadata": {
    "collapsed": true
   },
   "outputs": [],
   "source": [
    "def send_df_to_dashboard(df):\n",
    "    # extract the hashtags from dataframe and convert them into array\n",
    "    top_tags = [str(t.CountryCode) for t in df.select(\"CountryCode\").collect()]\n",
    "    # extract the counts from dataframe and convert them into array\n",
    "    tags_count = [p.TweetCount for p in df.select(\"TweetCount\").collect()]\n",
    "    # initialize and send the data through REST API\n",
    "    url = 'http://192.1.1.1:5001/updateData'\n",
    "    request_data = {'label': str(top_tags), 'data': str(tags_count)}\n",
    "    response = requests.post(url, data=request_data)"
   ]
  },
  {
   "cell_type": "code",
   "execution_count": null,
   "metadata": {
    "collapsed": false
   },
   "outputs": [],
   "source": [
    "tweets.foreachRDD(process)"
   ]
  },
  {
   "cell_type": "code",
   "execution_count": null,
   "metadata": {
    "collapsed": false
   },
   "outputs": [],
   "source": [
    "ssc.start()"
   ]
  },
  {
   "cell_type": "code",
   "execution_count": null,
   "metadata": {
    "collapsed": false
   },
   "outputs": [],
   "source": [
    "ssc.awaitTermination()"
   ]
  },
  {
   "cell_type": "code",
   "execution_count": null,
   "metadata": {
    "collapsed": true
   },
   "outputs": [],
   "source": []
  }
 ],
 "metadata": {
  "kernelspec": {
   "display_name": "Python 2",
   "language": "python",
   "name": "python2"
  },
  "language_info": {
   "codemirror_mode": {
    "name": "ipython",
    "version": 2
   },
   "file_extension": ".py",
   "mimetype": "text/x-python",
   "name": "python",
   "nbconvert_exporter": "python",
   "pygments_lexer": "ipython2",
   "version": "2.7.13"
  }
 },
 "nbformat": 4,
 "nbformat_minor": 2
}
