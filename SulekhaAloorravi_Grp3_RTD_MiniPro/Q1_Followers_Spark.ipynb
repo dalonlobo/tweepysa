{
 "cells": [
  {
   "cell_type": "code",
   "execution_count": null,
   "metadata": {
    "collapsed": false
   },
   "outputs": [],
   "source": [
    "from __future__ import print_function\n",
    "import sys\n",
    "from pyspark import SparkContext\n",
    "from pyspark.streaming import StreamingContext\n",
    "from pyspark.sql import Row, SparkSession\n",
    "import io\n",
    "import requests"
   ]
  },
  {
   "cell_type": "code",
   "execution_count": null,
   "metadata": {
    "collapsed": false
   },
   "outputs": [],
   "source": [
    "def getSparkSessionInstance(sparkConf):\n",
    "    if ('sparkSessionSingletonInstance' not in globals()):\n",
    "        globals()['sparkSessionSingletonInstance'] = SparkSession\\\n",
    "            .builder\\\n",
    "            .config(conf=sparkConf)\\\n",
    "            .getOrCreate()\n",
    "    return globals()['sparkSessionSingletonInstance']\n",
    "\n",
    "\n",
    "if __name__ == \"__main__\":\n",
    "    sc = SparkContext.getOrCreate()\n",
    "    ssc = StreamingContext(sc, 5)"
   ]
  },
  {
   "cell_type": "code",
   "execution_count": null,
   "metadata": {
    "collapsed": true
   },
   "outputs": [],
   "source": [
    "socket_stream = ssc.socketTextStream(\"192.1.1.1\", 5551)"
   ]
  },
  {
   "cell_type": "code",
   "execution_count": null,
   "metadata": {
    "collapsed": true
   },
   "outputs": [],
   "source": [
    "lines = socket_stream.window(60)"
   ]
  },
  {
   "cell_type": "code",
   "execution_count": null,
   "metadata": {
    "collapsed": false
   },
   "outputs": [],
   "source": [
    "tweets = lines.flatMap(lambda line: line.split(\"\\n\"))"
   ]
  },
  {
   "cell_type": "code",
   "execution_count": null,
   "metadata": {
    "collapsed": false
   },
   "outputs": [],
   "source": [
    "# Convert RDDs of the words DStream to DataFrame and run SQL query\n",
    "def process(time, rdd):\n",
    "        print(\"========= %s =========\" % str(time))\n",
    "        from pyspark.sql.types import NumericType\n",
    "        try:\n",
    "            # Get the singleton instance of SparkSession\n",
    "            spark = getSparkSessionInstance(rdd.context.getConf())\n",
    "\n",
    "            header = [\"ScreenName\",\"FollowersCount\",\"Language\",\"TweetsCount\",\"CountryCode\"]\n",
    "            rowRdd = rdd.map(lambda row : row.split(\"||\"))\n",
    "            jsonDataFrame = spark.createDataFrame(rowRdd, header)\n",
    "            jsonDataFrame = jsonDataFrame.withColumn(\"FollowersCount\",jsonDataFrame[\"FollowersCount\"].cast(\"Int\"))\n",
    "            jsonDataFrame = jsonDataFrame.withColumn(\"TweetsCount\",jsonDataFrame[\"TweetsCount\"].cast(\"Int\"))\n",
    "            \n",
    "                        \n",
    "            # Creates a temporary view using the DataFrame.\n",
    "            jsonDataFrame.createOrReplaceTempView(\"tweets\")\n",
    "\n",
    "            # Do word count on table using SQL and print it\n",
    "            #1.Find Influential people in twitter:\n",
    "            #1.1 For simplicity assume the algorithm to find influential person is directly proportional to followers.\n",
    "            #1.2 Find top 20 Influential personalities from the twitter across the globe.\n",
    "            FollowersCountDF = \\\n",
    "            spark.sql(\"select ScreenName, FollowersCount from tweets order by FollowersCount desc limit 20\")\n",
    "            FollowersCountDF.show()\n",
    "            send_df_to_dashboard(FollowersCountDF)\n",
    "            \n",
    "        except:\n",
    "            pass\n",
    "\n",
    "        "
   ]
  },
  {
   "cell_type": "code",
   "execution_count": null,
   "metadata": {
    "collapsed": false
   },
   "outputs": [],
   "source": [
    "def send_df_to_dashboard(df):\n",
    "    # extract the hashtags from dataframe and convert them into array\n",
    "    top_tags = [str(t.ScreenName) for t in df.select(\"ScreenName\").collect()]\n",
    "    # extract the counts from dataframe and convert them into array\n",
    "    tags_count = [p.FollowersCount for p in df.select(\"FollowersCount\").collect()]\n",
    "    # initialize and send the data through REST API\n",
    "    url = 'http://192.1.1.1:5001/updateData'\n",
    "    request_data = {'label': str(top_tags), 'data': str(tags_count)}\n",
    "    response = requests.post(url, data=request_data)"
   ]
  },
  {
   "cell_type": "code",
   "execution_count": null,
   "metadata": {
    "collapsed": false
   },
   "outputs": [],
   "source": [
    "tweets.foreachRDD(process)"
   ]
  },
  {
   "cell_type": "code",
   "execution_count": null,
   "metadata": {
    "collapsed": false
   },
   "outputs": [],
   "source": [
    "ssc.start()"
   ]
  },
  {
   "cell_type": "code",
   "execution_count": null,
   "metadata": {
    "collapsed": false
   },
   "outputs": [],
   "source": [
    "ssc.awaitTermination()"
   ]
  },
  {
   "cell_type": "code",
   "execution_count": null,
   "metadata": {
    "collapsed": true
   },
   "outputs": [],
   "source": []
  }
 ],
 "metadata": {
  "kernelspec": {
   "display_name": "Python 2",
   "language": "python",
   "name": "python2"
  },
  "language_info": {
   "codemirror_mode": {
    "name": "ipython",
    "version": 2
   },
   "file_extension": ".py",
   "mimetype": "text/x-python",
   "name": "python",
   "nbconvert_exporter": "python",
   "pygments_lexer": "ipython2",
   "version": "2.7.13"
  }
 },
 "nbformat": 4,
 "nbformat_minor": 2
}
