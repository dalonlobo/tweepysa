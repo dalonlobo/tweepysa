{
 "cells": [
  {
   "cell_type": "code",
   "execution_count": null,
   "metadata": {
    "collapsed": false
   },
   "outputs": [],
   "source": [
    "import os\n",
    "import tweepy\n",
    "from tweepy import OAuthHandler\n",
    "from tweepy import Stream\n",
    "from tweepy.streaming import StreamListener\n",
    "import socket\n",
    "import json\n",
    "import requests\n",
    "import requests_oauthlib\n",
    "\n",
    "consumer_key = 'etreterytXQdz1Oa7ImyY5D'\n",
    "consumer_secret = 'DItytrytryLKxoHm9pUAk13aqstKHjTtIvKB0y7z0SHUzm16'\n",
    "access_token = '9119hgjghjghj8097-KH2VkrtKmo5UmAjehwxAZFMVDWzouuC'\n",
    "access_secret = 'CAblhgjghjghjghZyD0GM6sAbCWXvlVItF9xl'\n",
    " \n",
    "class TweetsListener(StreamListener):\n",
    " \n",
    "    def __init__(self, csocket):\n",
    "        self.client_socket = csocket\n",
    " \n",
    "    def on_data(self, data):\n",
    "        try:\n",
    "            msg = json.loads(data)\n",
    "            if 'user' in msg:\n",
    "                 self.client_socket.send(msg['user']['screen_name'].encode('utf-8')+'||'+str(msg['user']['followers_count'])+'||'+msg['user']['lang'].encode('utf-8')+'||'+str(msg['user']['statuses_count'])+'||'+msg['place']['country_code'].encode('utf-8')+'\\n') \n",
    "            return True\n",
    "        except BaseException as e:\n",
    "            print(\"Error on_data: %s\" % str(e))\n",
    "        return True\n",
    " \n",
    "    def on_error(self, status):\n",
    "        print(status)\n",
    "        return True\n",
    " \n",
    "def sendData(c_socket):\n",
    "    auth = OAuthHandler(consumer_key, consumer_secret)\n",
    "    auth.set_access_token(access_token, access_secret)\n",
    " \n",
    "    twitter_stream = Stream(auth, TweetsListener(c_socket))\n",
    "    #This below mentioned location coordinates covers the whole world data\n",
    "    twitter_stream.filter(locations=[-180,-90,180,90])\n",
    "    \n",
    "if __name__ == \"__main__\":\n",
    "    s = socket.socket()     # Create a socket object\n",
    "    host = \"192.1.1.1\"      # Get local machine name\n",
    "    port = 5559             # Reserve a port for your service.\n",
    "    s.bind((host, port))    # Bind to the port\n",
    " \n",
    "    print(\"Listening on port: %s\" % str(port))\n",
    " \n",
    "    s.listen(5)                 # Now wait for client connection.\n",
    "    c, addr = s.accept()        # Establish connection with client.\n",
    " \n",
    "    print( \"Received request from: \" + str( addr ) )\n",
    " \n",
    "    sendData( c )\n"
   ]
  },
  {
   "cell_type": "code",
   "execution_count": null,
   "metadata": {
    "collapsed": true
   },
   "outputs": [],
   "source": []
  },
  {
   "cell_type": "code",
   "execution_count": null,
   "metadata": {
    "collapsed": true
   },
   "outputs": [],
   "source": []
  }
 ],
 "metadata": {
  "kernelspec": {
   "display_name": "Python 2",
   "language": "python",
   "name": "python2"
  },
  "language_info": {
   "codemirror_mode": {
    "name": "ipython",
    "version": 2
   },
   "file_extension": ".py",
   "mimetype": "text/x-python",
   "name": "python",
   "nbconvert_exporter": "python",
   "pygments_lexer": "ipython2",
   "version": "2.7.13"
  }
 },
 "nbformat": 4,
 "nbformat_minor": 2
}
