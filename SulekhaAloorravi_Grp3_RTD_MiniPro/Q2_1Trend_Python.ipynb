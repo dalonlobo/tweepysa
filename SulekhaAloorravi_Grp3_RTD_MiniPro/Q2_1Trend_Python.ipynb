{
 "cells": [
  {
   "cell_type": "code",
   "execution_count": null,
   "metadata": {
    "collapsed": false
   },
   "outputs": [],
   "source": [
    "import tweepy\n",
    "from tweepy import OAuthHandler\n",
    "from tweepy import Stream\n",
    "from tweepy.streaming import StreamListener\n",
    "import socket\n",
    "import json\n",
    "import re\n",
    "\n",
    "consumer_key = '7iBtytyrtytrK5c9t3dDfzgF'\n",
    "consumer_secret = 'lnC2IIvXrs8qiPshSlo73OMe7v7NKTIXOu3402ODtL0Lp0uFzh'\n",
    "access_token = '912715498810257408-aoO3owMw5lTQoqxNrN8pVGWgzrvyZUW'\n",
    "access_secret = 'gTFRWYgYCfU3X2JGOQ4hW79W779FqWhCAHwsGC3dsWYmf'\n",
    "\n",
    "def clean_tweet(tweet):\n",
    "        return ' '.join(re.sub(\"(@[A-Za-z0-9]+)|([^0-9A-Za-z \\t])|(\\w+:\\/\\/\\S+)\", \" \", tweet).split())\n",
    "\n",
    "class TweetsListener(StreamListener):\n",
    "\n",
    "  def __init__(self, csocket):\n",
    "      self.client_socket = csocket\n",
    "\n",
    "  def on_data(self, data):\n",
    "      try:\n",
    "          msg = json.loads( data )\n",
    "          #print( msg['text'].encode('utf-8') )\n",
    "          tweet_text = clean_tweet(msg['text'])\n",
    "          #print(tweet_text)\n",
    "          self.client_socket.send( tweet_text + '\\n' )\n",
    "          return True\n",
    "      except BaseException as e:\n",
    "          print(\"Error on_data: %s\" % str(e))\n",
    "      return True\n",
    "\n",
    "  def on_error(self, status):\n",
    "      print(status)\n",
    "      return True\n",
    "\n",
    "def sendData(c_socket):\n",
    "  auth = OAuthHandler(consumer_key, consumer_secret)\n",
    "  auth.set_access_token(access_token, access_secret)\n",
    "\n",
    "  twitter_stream = Stream(auth, TweetsListener(c_socket))\n",
    "  #Use the below line to get whole world's trending topics\n",
    "  #twitter_stream.filter(locations=[-180,-90,180,90])\n",
    "  #Due to too much of tweets volume and execution time, I am using the below line to get output\n",
    "  #twitter_stream.filter(track=['iphone'])\n",
    "  twitter_stream.sample()\n",
    "\n",
    "\n",
    "if __name__ == \"__main__\":\n",
    "  s = socket.socket()         # Create a socket object\n",
    "  host = \"192.0.0.1\"      # Get local machine name\n",
    "  port = 7799                 # Reserve a port for your service.\n",
    "  s.bind((host, port))        # Bind to the port\n",
    "\n",
    "  print(\"Listening on port: %s\" % str(port))\n",
    "\n",
    "  s.listen(5)                 # Now wait for client connection.\n",
    "  c, addr = s.accept()        # Establish connection with client.\n",
    "\n",
    "  print( \"Received request from: \" + str( addr ) )\n",
    "\n",
    "  sendData( c )"
   ]
  }
 ],
 "metadata": {
  "kernelspec": {
   "display_name": "Python 2",
   "language": "python",
   "name": "python2"
  },
  "language_info": {
   "codemirror_mode": {
    "name": "ipython",
    "version": 2
   },
   "file_extension": ".py",
   "mimetype": "text/x-python",
   "name": "python",
   "nbconvert_exporter": "python",
   "pygments_lexer": "ipython2",
   "version": "2.7.13"
  }
 },
 "nbformat": 4,
 "nbformat_minor": 2
}
