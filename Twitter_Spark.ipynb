{
 "cells": [
  {
   "cell_type": "code",
   "execution_count": 1,
   "metadata": {
    "collapsed": false
   },
   "outputs": [],
   "source": [
    "from __future__ import print_function\n",
    "from pyspark import SparkContext\n",
    "from pyspark.streaming import StreamingContext"
   ]
  },
  {
   "cell_type": "code",
   "execution_count": 2,
   "metadata": {
    "collapsed": false
   },
   "outputs": [],
   "source": [
    "sc = SparkContext(appName=\"StreamingTwitterAnalysis\")\n",
    "sc.setLogLevel(\"Error\")\n",
    "ssc = StreamingContext(sc,10)"
   ]
  },
  {
   "cell_type": "code",
   "execution_count": 3,
   "metadata": {
    "collapsed": true
   },
   "outputs": [],
   "source": [
    "socket_stream = ssc.socketTextStream(\"172.31.20.58\", 5558)"
   ]
  },
  {
   "cell_type": "code",
   "execution_count": 4,
   "metadata": {
    "collapsed": true
   },
   "outputs": [],
   "source": [
    "lines = socket_stream.window(60)"
   ]
  },
  {
   "cell_type": "code",
   "execution_count": 5,
   "metadata": {
    "collapsed": true
   },
   "outputs": [],
   "source": [
    "hashtags = lines.flatMap(lambda text: text.split(\" \")).filter(lambda word: word.lower().startswith(\"#\")).map(lambda word: ( word.lower(), 1 ) ).reduceByKey( lambda a, b: a + b )"
   ]
  },
  {
   "cell_type": "code",
   "execution_count": 6,
   "metadata": {
    "collapsed": true
   },
   "outputs": [],
   "source": [
    "author_counts_sorted_dstream = hashtags.transform(lambda foo:foo.sortBy(lambda x:x[0].lower()).sortBy(lambda x:x[1],ascending=False))"
   ]
  },
  {
   "cell_type": "code",
   "execution_count": 7,
   "metadata": {
    "collapsed": true
   },
   "outputs": [],
   "source": [
    "author_counts_sorted_dstream.pprint()"
   ]
  },
  {
   "cell_type": "code",
   "execution_count": null,
   "metadata": {
    "collapsed": true
   },
   "outputs": [],
   "source": [
    "ssc.start()"
   ]
  },
  {
   "cell_type": "code",
   "execution_count": null,
   "metadata": {
    "collapsed": false
   },
   "outputs": [
    {
     "name": "stdout",
     "output_type": "stream",
     "text": [
      "-------------------------------------------\n",
      "Time: 2017-09-27 20:22:00\n",
      "-------------------------------------------\n",
      "\n",
      "-------------------------------------------\n",
      "Time: 2017-09-27 20:22:10\n",
      "-------------------------------------------\n",
      "\n",
      "-------------------------------------------\n",
      "Time: 2017-09-27 20:22:20\n",
      "-------------------------------------------\n",
      "(u'#theresistance', 15)\n",
      "(u'#maga', 12)\n",
      "(u'#resist', 8)\n",
      "(u'#taxreform', 8)\n",
      "(u'#trump', 8)\n",
      "(u'#p2', 7)\n",
      "(u'#takeaknee', 7)\n",
      "(u'#boycotttrump', 6)\n",
      "(u'#contact', 6)\n",
      "(u'#fucktrump', 6)\n",
      "...\n",
      "\n",
      "-------------------------------------------\n",
      "Time: 2017-09-27 20:22:30\n",
      "-------------------------------------------\n",
      "(u'#trump', 47)\n",
      "(u'#maga', 31)\n",
      "(u'#theresistance', 27)\n",
      "(u'#contact', 17)\n",
      "(u'#snapchat-', 17)\n",
      "(u'#taxreform', 17)\n",
      "(u'#gothere', 14)\n",
      "(u'#trumprussia', 14)\n",
      "(u'#resist', 13)\n",
      "(u'#takeaknee', 13)\n",
      "...\n",
      "\n",
      "-------------------------------------------\n",
      "Time: 2017-09-27 20:22:40\n",
      "-------------------------------------------\n",
      "(u'#trump', 68)\n",
      "(u'#maga', 50)\n",
      "(u'#theresistance', 39)\n",
      "(u'#takeaknee', 31)\n",
      "(u'#taxreform', 28)\n",
      "(u'#contact', 27)\n",
      "(u'#snapchat-', 27)\n",
      "(u'#resist', 23)\n",
      "(u'#gothere', 21)\n",
      "(u'#trumprussia', 19)\n",
      "...\n",
      "\n",
      "-------------------------------------------\n",
      "Time: 2017-09-27 20:22:50\n",
      "-------------------------------------------\n",
      "(u'#trump', 81)\n",
      "(u'#theresistance', 69)\n",
      "(u'#maga', 66)\n",
      "(u'#takeaknee', 47)\n",
      "(u'#contact', 36)\n",
      "(u'#snapchat-', 36)\n",
      "(u'#taxreform', 34)\n",
      "(u'#resist', 32)\n",
      "(u'#gothere', 30)\n",
      "(u'#trumprussia', 24)\n",
      "...\n",
      "\n",
      "-------------------------------------------\n",
      "Time: 2017-09-27 20:23:00\n",
      "-------------------------------------------\n",
      "(u'#trump', 90)\n",
      "(u'#theresistance', 89)\n",
      "(u'#maga', 79)\n",
      "(u'#takeaknee', 53)\n",
      "(u'#contact', 43)\n",
      "(u'#snapchat-', 43)\n",
      "(u'#resist', 41)\n",
      "(u'#taxreform', 40)\n",
      "(u'#trumprussia', 34)\n",
      "(u'#gothere', 32)\n",
      "...\n",
      "\n",
      "-------------------------------------------\n",
      "Time: 2017-09-27 20:23:10\n",
      "-------------------------------------------\n",
      "(u'#theresistance', 108)\n",
      "(u'#trump', 107)\n",
      "(u'#maga', 99)\n",
      "(u'#takeaknee', 59)\n",
      "(u'#contact', 51)\n",
      "(u'#snapchat-', 51)\n",
      "(u'#resist', 49)\n",
      "(u'#trumprussia', 48)\n",
      "(u'#taxreform', 42)\n",
      "(u'#gothere', 39)\n",
      "...\n",
      "\n",
      "-------------------------------------------\n",
      "Time: 2017-09-27 20:23:20\n",
      "-------------------------------------------\n",
      "(u'#trump', 118)\n",
      "(u'#theresistance', 107)\n",
      "(u'#maga', 101)\n",
      "(u'#trumprussia', 55)\n",
      "(u'#takeaknee', 54)\n",
      "(u'#resist', 51)\n",
      "(u'#contact', 48)\n",
      "(u'#snapchat-', 48)\n",
      "(u'#gothere', 40)\n",
      "(u'#taxreform', 40)\n",
      "...\n",
      "\n",
      "-------------------------------------------\n",
      "Time: 2017-09-27 20:23:30\n",
      "-------------------------------------------\n",
      "(u'#theresistance', 109)\n",
      "(u'#trump', 106)\n",
      "(u'#maga', 100)\n",
      "(u'#resist', 59)\n",
      "(u'#takeaknee', 57)\n",
      "(u'#trumprussia', 52)\n",
      "(u'#theresistance\\\\u2014dem', 40)\n",
      "(u'#taxreform', 39)\n",
      "(u'#contact', 38)\n",
      "(u'#snapchat-', 38)\n",
      "...\n",
      "\n",
      "-------------------------------------------\n",
      "Time: 2017-09-27 20:23:40\n",
      "-------------------------------------------\n",
      "(u'#trump', 124)\n",
      "(u'#theresistance', 111)\n",
      "(u'#maga', 103)\n",
      "(u'#resist', 62)\n",
      "(u'#takeaknee', 55)\n",
      "(u'#trumprussia', 52)\n",
      "(u'#contact', 41)\n",
      "(u'#snapchat-', 41)\n",
      "(u'#art\\\\u0131kg\\\\u00fcl\\\\u00fcyorum', 40)\n",
      "(u'#realnews.\",\"translator_type\":\"none\",\"protected\":false,\"verified\":true,\"followers_count\":430552,\"friends_count\":2938,\"listed_count\":5175,\"favourites_count\":4469,\"statuses_count\":27258,\"created_at\":\"wed', 37)\n",
      "...\n",
      "\n"
     ]
    }
   ],
   "source": [
    "ssc.awaitTermination()"
   ]
  }
 ],
 "metadata": {
  "kernelspec": {
   "display_name": "Python [default]",
   "language": "python",
   "name": "python2"
  },
  "language_info": {
   "codemirror_mode": {
    "name": "ipython",
    "version": 2
   },
   "file_extension": ".py",
   "mimetype": "text/x-python",
   "name": "python",
   "nbconvert_exporter": "python",
   "pygments_lexer": "ipython2",
   "version": "2.7.13"
  }
 },
 "nbformat": 4,
 "nbformat_minor": 2
}
